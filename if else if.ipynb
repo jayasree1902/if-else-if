{
 "cells": [
  {
   "cell_type": "code",
   "execution_count": 1,
   "id": "78acf001",
   "metadata": {},
   "outputs": [
    {
     "name": "stdout",
     "output_type": "stream",
     "text": [
      "100\n"
     ]
    }
   ],
   "source": [
    "a = 100\n",
    "if a == 100:\n",
    "    print(a)\n",
    "if a == 23:\n",
    "    print(a)"
   ]
  },
  {
   "cell_type": "code",
   "execution_count": 2,
   "id": "bc441dff",
   "metadata": {},
   "outputs": [
    {
     "name": "stdout",
     "output_type": "stream",
     "text": [
      "23\n"
     ]
    }
   ],
   "source": [
    "a = 23\n",
    "if a == 23:\n",
    "    print(a)"
   ]
  },
  {
   "cell_type": "code",
   "execution_count": 3,
   "id": "ed4e1cdf",
   "metadata": {},
   "outputs": [
    {
     "name": "stdout",
     "output_type": "stream",
     "text": [
      "24\n"
     ]
    }
   ],
   "source": [
    "a = 24\n",
    "if a == 23:\n",
    "    pass\n",
    "else:\n",
    "    print(a)"
   ]
  },
  {
   "cell_type": "code",
   "execution_count": 4,
   "id": "b7410f88",
   "metadata": {},
   "outputs": [
    {
     "name": "stdout",
     "output_type": "stream",
     "text": [
      "Enter a number: 4566\n"
     ]
    }
   ],
   "source": [
    "a = int(input(\"Enter a number: \"))"
   ]
  },
  {
   "cell_type": "code",
   "execution_count": 5,
   "id": "95c92024",
   "metadata": {},
   "outputs": [
    {
     "data": {
      "text/plain": [
       "int"
      ]
     },
     "execution_count": 5,
     "metadata": {},
     "output_type": "execute_result"
    }
   ],
   "source": [
    "type(a)"
   ]
  },
  {
   "cell_type": "code",
   "execution_count": 7,
   "id": "b9d916bc",
   "metadata": {},
   "outputs": [
    {
     "name": "stdout",
     "output_type": "stream",
     "text": [
      "Enter the price: 800\n",
      "we can buy something else\n"
     ]
    }
   ],
   "source": [
    "price = int(input(\"Enter the price: \"))\n",
    "if price<500:\n",
    "    print(\"we can buy a Jacket\")\n",
    "elif price == 500:\n",
    "    print(\"we will buy a t-shirt\")\n",
    "\n",
    "else:\n",
    "    print(\"we can buy something else\")"
   ]
  },
  {
   "cell_type": "code",
   "execution_count": 8,
   "id": "03e4c388",
   "metadata": {},
   "outputs": [
    {
     "name": "stdout",
     "output_type": "stream",
     "text": [
      "Enter marks = 1000\n",
      "gre\n"
     ]
    }
   ],
   "source": [
    "m=int(input(\"Enter marks = \"))\n",
    "if(m>600):\n",
    "    print(\"gre\")\n",
    "elif m>=500 and m<=600:\n",
    "    print(\"iels\")\n",
    "elif m>=400 and m<500:\n",
    "    print(\"toffle\")\n",
    "else:\n",
    "    print(\"nothing\")"
   ]
  },
  {
   "cell_type": "code",
   "execution_count": 9,
   "id": "9de6ccfe",
   "metadata": {},
   "outputs": [],
   "source": [
    "l = [4,5,6,7,80,12,45,56]"
   ]
  },
  {
   "cell_type": "code",
   "execution_count": null,
   "id": "45ff6d97",
   "metadata": {},
   "outputs": [],
   "source": [
    "if 5 in l:\n",
    "    print(\"5 is there in list\")\n",
    "else:\n",
    "    printf(\"5 is not in list\")"
   ]
  }
 ],
 "metadata": {
  "kernelspec": {
   "display_name": "Python 3 (ipykernel)",
   "language": "python",
   "name": "python3"
  },
  "language_info": {
   "codemirror_mode": {
    "name": "ipython",
    "version": 3
   },
   "file_extension": ".py",
   "mimetype": "text/x-python",
   "name": "python",
   "nbconvert_exporter": "python",
   "pygments_lexer": "ipython3",
   "version": "3.10.5"
  }
 },
 "nbformat": 4,
 "nbformat_minor": 5
}
